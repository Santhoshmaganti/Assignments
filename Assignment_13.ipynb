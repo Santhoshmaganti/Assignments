{
 "cells": [
  {
   "cell_type": "code",
   "execution_count": 1,
   "id": "f6fc3501",
   "metadata": {},
   "outputs": [],
   "source": [
    "import pandas\n",
    "import pandas as pd"
   ]
  },
  {
   "cell_type": "code",
   "execution_count": 2,
   "id": "1f0206b8",
   "metadata": {},
   "outputs": [],
   "source": [
    "collegemates={\"name\":(\"hari\",\"harsha\",\"vamsi\",\"varun\"),\n",
    "             \"quality\":(\"intelligent\",\"irritating\",\"anxious\",\"talented\")}"
   ]
  },
  {
   "cell_type": "code",
   "execution_count": 3,
   "id": "9fb44494",
   "metadata": {},
   "outputs": [
    {
     "data": {
      "text/html": [
       "<div>\n",
       "<style scoped>\n",
       "    .dataframe tbody tr th:only-of-type {\n",
       "        vertical-align: middle;\n",
       "    }\n",
       "\n",
       "    .dataframe tbody tr th {\n",
       "        vertical-align: top;\n",
       "    }\n",
       "\n",
       "    .dataframe thead th {\n",
       "        text-align: right;\n",
       "    }\n",
       "</style>\n",
       "<table border=\"1\" class=\"dataframe\">\n",
       "  <thead>\n",
       "    <tr style=\"text-align: right;\">\n",
       "      <th></th>\n",
       "      <th>name</th>\n",
       "      <th>quality</th>\n",
       "    </tr>\n",
       "  </thead>\n",
       "  <tbody>\n",
       "    <tr>\n",
       "      <th>0</th>\n",
       "      <td>hari</td>\n",
       "      <td>intelligent</td>\n",
       "    </tr>\n",
       "    <tr>\n",
       "      <th>1</th>\n",
       "      <td>harsha</td>\n",
       "      <td>irritating</td>\n",
       "    </tr>\n",
       "    <tr>\n",
       "      <th>2</th>\n",
       "      <td>vamsi</td>\n",
       "      <td>anxious</td>\n",
       "    </tr>\n",
       "    <tr>\n",
       "      <th>3</th>\n",
       "      <td>varun</td>\n",
       "      <td>talented</td>\n",
       "    </tr>\n",
       "  </tbody>\n",
       "</table>\n",
       "</div>"
      ],
      "text/plain": [
       "     name      quality\n",
       "0    hari  intelligent\n",
       "1  harsha   irritating\n",
       "2   vamsi      anxious\n",
       "3   varun     talented"
      ]
     },
     "execution_count": 3,
     "metadata": {},
     "output_type": "execute_result"
    }
   ],
   "source": [
    "dfc=pd.DataFrame(collegemates)\n",
    "dfc"
   ]
  },
  {
   "cell_type": "code",
   "execution_count": 4,
   "id": "8c007532",
   "metadata": {},
   "outputs": [],
   "source": [
    "colleagus={\"name\":(\"shabana\",\"anusha\",\"parvin\",\"nasheena\"),\n",
    "          \"quality\":(\"good\",\"arrogant\",\"talent\",\"intelligent\")}"
   ]
  },
  {
   "cell_type": "code",
   "execution_count": 5,
   "id": "2e864dce",
   "metadata": {},
   "outputs": [
    {
     "data": {
      "text/html": [
       "<div>\n",
       "<style scoped>\n",
       "    .dataframe tbody tr th:only-of-type {\n",
       "        vertical-align: middle;\n",
       "    }\n",
       "\n",
       "    .dataframe tbody tr th {\n",
       "        vertical-align: top;\n",
       "    }\n",
       "\n",
       "    .dataframe thead th {\n",
       "        text-align: right;\n",
       "    }\n",
       "</style>\n",
       "<table border=\"1\" class=\"dataframe\">\n",
       "  <thead>\n",
       "    <tr style=\"text-align: right;\">\n",
       "      <th></th>\n",
       "      <th>name</th>\n",
       "      <th>quality</th>\n",
       "    </tr>\n",
       "  </thead>\n",
       "  <tbody>\n",
       "    <tr>\n",
       "      <th>0</th>\n",
       "      <td>shabana</td>\n",
       "      <td>good</td>\n",
       "    </tr>\n",
       "    <tr>\n",
       "      <th>1</th>\n",
       "      <td>anusha</td>\n",
       "      <td>arrogant</td>\n",
       "    </tr>\n",
       "    <tr>\n",
       "      <th>2</th>\n",
       "      <td>parvin</td>\n",
       "      <td>talent</td>\n",
       "    </tr>\n",
       "    <tr>\n",
       "      <th>3</th>\n",
       "      <td>nasheena</td>\n",
       "      <td>intelligent</td>\n",
       "    </tr>\n",
       "  </tbody>\n",
       "</table>\n",
       "</div>"
      ],
      "text/plain": [
       "       name      quality\n",
       "0   shabana         good\n",
       "1    anusha     arrogant\n",
       "2    parvin       talent\n",
       "3  nasheena  intelligent"
      ]
     },
     "execution_count": 5,
     "metadata": {},
     "output_type": "execute_result"
    }
   ],
   "source": [
    "dfco=pd.DataFrame(colleagus)\n",
    "dfco"
   ]
  },
  {
   "cell_type": "code",
   "execution_count": 6,
   "id": "fc9aaa96",
   "metadata": {},
   "outputs": [
    {
     "data": {
      "text/plain": [
       "quality\n",
       "anxious        1\n",
       "intelligent    1\n",
       "irritating     1\n",
       "talented       1\n",
       "Name: name, dtype: int64"
      ]
     },
     "execution_count": 6,
     "metadata": {},
     "output_type": "execute_result"
    }
   ],
   "source": [
    "dfc.groupby(\"quality\")[\"name\"].count()"
   ]
  },
  {
   "cell_type": "code",
   "execution_count": 7,
   "id": "4586a104",
   "metadata": {},
   "outputs": [
    {
     "data": {
      "text/plain": [
       "quality\n",
       "arrogant       1\n",
       "good           1\n",
       "intelligent    1\n",
       "talent         1\n",
       "Name: name, dtype: int64"
      ]
     },
     "execution_count": 7,
     "metadata": {},
     "output_type": "execute_result"
    }
   ],
   "source": [
    "dfco.groupby(\"quality\")[\"name\"].count()"
   ]
  },
  {
   "cell_type": "code",
   "execution_count": null,
   "id": "f26a3a2b",
   "metadata": {},
   "outputs": [],
   "source": []
  },
  {
   "cell_type": "code",
   "execution_count": 8,
   "id": "07ca52c3",
   "metadata": {},
   "outputs": [
    {
     "data": {
      "text/html": [
       "<div>\n",
       "<style scoped>\n",
       "    .dataframe tbody tr th:only-of-type {\n",
       "        vertical-align: middle;\n",
       "    }\n",
       "\n",
       "    .dataframe tbody tr th {\n",
       "        vertical-align: top;\n",
       "    }\n",
       "\n",
       "    .dataframe thead th {\n",
       "        text-align: right;\n",
       "    }\n",
       "</style>\n",
       "<table border=\"1\" class=\"dataframe\">\n",
       "  <thead>\n",
       "    <tr style=\"text-align: right;\">\n",
       "      <th></th>\n",
       "      <th>name</th>\n",
       "      <th>quality</th>\n",
       "    </tr>\n",
       "  </thead>\n",
       "  <tbody>\n",
       "    <tr>\n",
       "      <th>0</th>\n",
       "      <td>hari</td>\n",
       "      <td>intelligent</td>\n",
       "    </tr>\n",
       "    <tr>\n",
       "      <th>1</th>\n",
       "      <td>varun</td>\n",
       "      <td>irritating</td>\n",
       "    </tr>\n",
       "    <tr>\n",
       "      <th>2</th>\n",
       "      <td>varun</td>\n",
       "      <td>anxious</td>\n",
       "    </tr>\n",
       "    <tr>\n",
       "      <th>3</th>\n",
       "      <td>vamsi</td>\n",
       "      <td>talented</td>\n",
       "    </tr>\n",
       "  </tbody>\n",
       "</table>\n",
       "</div>"
      ],
      "text/plain": [
       "    name      quality\n",
       "0   hari  intelligent\n",
       "1  varun   irritating\n",
       "2  varun      anxious\n",
       "3  vamsi     talented"
      ]
     },
     "execution_count": 8,
     "metadata": {},
     "output_type": "execute_result"
    }
   ],
   "source": [
    "boysfriends=pd.read_excel(r\"E:\\Santhosh\\Pandas_assign13\\boys_friends.xlsx\")\n",
    "boysfriends"
   ]
  },
  {
   "cell_type": "code",
   "execution_count": 9,
   "id": "04d7f0af",
   "metadata": {},
   "outputs": [
    {
     "data": {
      "text/plain": [
       "name\n",
       "hari     1\n",
       "vamsi    1\n",
       "varun    2\n",
       "Name: quality, dtype: int64"
      ]
     },
     "execution_count": 9,
     "metadata": {},
     "output_type": "execute_result"
    }
   ],
   "source": [
    "boysfriends.groupby(\"name\")[\"quality\"].count()"
   ]
  },
  {
   "cell_type": "code",
   "execution_count": 10,
   "id": "d6923cdd",
   "metadata": {},
   "outputs": [
    {
     "data": {
      "text/html": [
       "<div>\n",
       "<style scoped>\n",
       "    .dataframe tbody tr th:only-of-type {\n",
       "        vertical-align: middle;\n",
       "    }\n",
       "\n",
       "    .dataframe tbody tr th {\n",
       "        vertical-align: top;\n",
       "    }\n",
       "\n",
       "    .dataframe thead th {\n",
       "        text-align: right;\n",
       "    }\n",
       "</style>\n",
       "<table border=\"1\" class=\"dataframe\">\n",
       "  <thead>\n",
       "    <tr style=\"text-align: right;\">\n",
       "      <th></th>\n",
       "      <th>name</th>\n",
       "      <th>quality</th>\n",
       "    </tr>\n",
       "  </thead>\n",
       "  <tbody>\n",
       "    <tr>\n",
       "      <th>0</th>\n",
       "      <td>lavanya</td>\n",
       "      <td>intelligent</td>\n",
       "    </tr>\n",
       "    <tr>\n",
       "      <th>1</th>\n",
       "      <td>supraja</td>\n",
       "      <td>irritating</td>\n",
       "    </tr>\n",
       "    <tr>\n",
       "      <th>2</th>\n",
       "      <td>prasanna</td>\n",
       "      <td>strong</td>\n",
       "    </tr>\n",
       "    <tr>\n",
       "      <th>3</th>\n",
       "      <td>bhargavi</td>\n",
       "      <td>topper</td>\n",
       "    </tr>\n",
       "  </tbody>\n",
       "</table>\n",
       "</div>"
      ],
      "text/plain": [
       "       name      quality\n",
       "0   lavanya  intelligent\n",
       "1   supraja   irritating\n",
       "2  prasanna       strong\n",
       "3  bhargavi       topper"
      ]
     },
     "execution_count": 10,
     "metadata": {},
     "output_type": "execute_result"
    }
   ],
   "source": [
    "girlsfriends=pd.read_excel(r\"E:\\Santhosh\\Pandas_assign13\\girls_friends.xlsx\")\n",
    "girlsfriends"
   ]
  },
  {
   "cell_type": "code",
   "execution_count": 11,
   "id": "3de3a653",
   "metadata": {},
   "outputs": [
    {
     "data": {
      "text/plain": [
       "quality\n",
       "intelligent    1\n",
       "irritating     1\n",
       "strong         1\n",
       "topper         1\n",
       "Name: name, dtype: int64"
      ]
     },
     "execution_count": 11,
     "metadata": {},
     "output_type": "execute_result"
    }
   ],
   "source": [
    "girlsfriends.groupby(\"quality\")[\"name\"].count()"
   ]
  },
  {
   "cell_type": "code",
   "execution_count": null,
   "id": "01cc1130",
   "metadata": {},
   "outputs": [],
   "source": []
  },
  {
   "cell_type": "code",
   "execution_count": 12,
   "id": "afc16d7d",
   "metadata": {},
   "outputs": [],
   "source": [
    "chicken_items={\"foodname\":(\"chicken_khabab\",\"chicken_dhum\",\"chicken_roast\",\"chicken_65\",\"chicken_fry\"),\n",
    "              \"taste\":(\"good\",\"tasty\",\"spicy\",\"spicy\",\"tasty\")}"
   ]
  },
  {
   "cell_type": "code",
   "execution_count": 13,
   "id": "04edca8b",
   "metadata": {},
   "outputs": [
    {
     "data": {
      "text/html": [
       "<div>\n",
       "<style scoped>\n",
       "    .dataframe tbody tr th:only-of-type {\n",
       "        vertical-align: middle;\n",
       "    }\n",
       "\n",
       "    .dataframe tbody tr th {\n",
       "        vertical-align: top;\n",
       "    }\n",
       "\n",
       "    .dataframe thead th {\n",
       "        text-align: right;\n",
       "    }\n",
       "</style>\n",
       "<table border=\"1\" class=\"dataframe\">\n",
       "  <thead>\n",
       "    <tr style=\"text-align: right;\">\n",
       "      <th></th>\n",
       "      <th>foodname</th>\n",
       "      <th>taste</th>\n",
       "    </tr>\n",
       "  </thead>\n",
       "  <tbody>\n",
       "    <tr>\n",
       "      <th>0</th>\n",
       "      <td>chicken_khabab</td>\n",
       "      <td>good</td>\n",
       "    </tr>\n",
       "    <tr>\n",
       "      <th>1</th>\n",
       "      <td>chicken_dhum</td>\n",
       "      <td>tasty</td>\n",
       "    </tr>\n",
       "    <tr>\n",
       "      <th>2</th>\n",
       "      <td>chicken_roast</td>\n",
       "      <td>spicy</td>\n",
       "    </tr>\n",
       "    <tr>\n",
       "      <th>3</th>\n",
       "      <td>chicken_65</td>\n",
       "      <td>spicy</td>\n",
       "    </tr>\n",
       "    <tr>\n",
       "      <th>4</th>\n",
       "      <td>chicken_fry</td>\n",
       "      <td>tasty</td>\n",
       "    </tr>\n",
       "  </tbody>\n",
       "</table>\n",
       "</div>"
      ],
      "text/plain": [
       "         foodname  taste\n",
       "0  chicken_khabab   good\n",
       "1    chicken_dhum  tasty\n",
       "2   chicken_roast  spicy\n",
       "3      chicken_65  spicy\n",
       "4     chicken_fry  tasty"
      ]
     },
     "execution_count": 13,
     "metadata": {},
     "output_type": "execute_result"
    }
   ],
   "source": [
    "dfchick=pd.DataFrame(chicken_items)\n",
    "dfchick"
   ]
  },
  {
   "cell_type": "code",
   "execution_count": 14,
   "id": "75d313eb",
   "metadata": {},
   "outputs": [],
   "source": [
    "mutton_items={\"foodname\":(\"mutton_khabab\",\"mutton_dhum\",\"mutton_roast\",\"mutton_kheema\",\"mutton_fry\"),\n",
    "             \"taste\":(\"good\",\"tasty\",\"spicy\",\"spicy\",\"tasty\")}"
   ]
  },
  {
   "cell_type": "code",
   "execution_count": 15,
   "id": "9d680932",
   "metadata": {},
   "outputs": [
    {
     "data": {
      "text/html": [
       "<div>\n",
       "<style scoped>\n",
       "    .dataframe tbody tr th:only-of-type {\n",
       "        vertical-align: middle;\n",
       "    }\n",
       "\n",
       "    .dataframe tbody tr th {\n",
       "        vertical-align: top;\n",
       "    }\n",
       "\n",
       "    .dataframe thead th {\n",
       "        text-align: right;\n",
       "    }\n",
       "</style>\n",
       "<table border=\"1\" class=\"dataframe\">\n",
       "  <thead>\n",
       "    <tr style=\"text-align: right;\">\n",
       "      <th></th>\n",
       "      <th>foodname</th>\n",
       "      <th>taste</th>\n",
       "    </tr>\n",
       "  </thead>\n",
       "  <tbody>\n",
       "    <tr>\n",
       "      <th>0</th>\n",
       "      <td>mutton_khabab</td>\n",
       "      <td>good</td>\n",
       "    </tr>\n",
       "    <tr>\n",
       "      <th>1</th>\n",
       "      <td>mutton_dhum</td>\n",
       "      <td>tasty</td>\n",
       "    </tr>\n",
       "    <tr>\n",
       "      <th>2</th>\n",
       "      <td>mutton_roast</td>\n",
       "      <td>spicy</td>\n",
       "    </tr>\n",
       "    <tr>\n",
       "      <th>3</th>\n",
       "      <td>mutton_kheema</td>\n",
       "      <td>spicy</td>\n",
       "    </tr>\n",
       "    <tr>\n",
       "      <th>4</th>\n",
       "      <td>mutton_fry</td>\n",
       "      <td>tasty</td>\n",
       "    </tr>\n",
       "  </tbody>\n",
       "</table>\n",
       "</div>"
      ],
      "text/plain": [
       "        foodname  taste\n",
       "0  mutton_khabab   good\n",
       "1    mutton_dhum  tasty\n",
       "2   mutton_roast  spicy\n",
       "3  mutton_kheema  spicy\n",
       "4     mutton_fry  tasty"
      ]
     },
     "execution_count": 15,
     "metadata": {},
     "output_type": "execute_result"
    }
   ],
   "source": [
    "dfmutton=pd.DataFrame(mutton_items)\n",
    "dfmutton"
   ]
  },
  {
   "cell_type": "code",
   "execution_count": 16,
   "id": "a504314e",
   "metadata": {},
   "outputs": [
    {
     "data": {
      "text/html": [
       "<div>\n",
       "<style scoped>\n",
       "    .dataframe tbody tr th:only-of-type {\n",
       "        vertical-align: middle;\n",
       "    }\n",
       "\n",
       "    .dataframe tbody tr th {\n",
       "        vertical-align: top;\n",
       "    }\n",
       "\n",
       "    .dataframe thead th {\n",
       "        text-align: right;\n",
       "    }\n",
       "</style>\n",
       "<table border=\"1\" class=\"dataframe\">\n",
       "  <thead>\n",
       "    <tr style=\"text-align: right;\">\n",
       "      <th></th>\n",
       "      <th>foodname_x</th>\n",
       "      <th>taste</th>\n",
       "      <th>foodname_y</th>\n",
       "    </tr>\n",
       "  </thead>\n",
       "  <tbody>\n",
       "    <tr>\n",
       "      <th>0</th>\n",
       "      <td>chicken_khabab</td>\n",
       "      <td>good</td>\n",
       "      <td>mutton_khabab</td>\n",
       "    </tr>\n",
       "    <tr>\n",
       "      <th>1</th>\n",
       "      <td>chicken_dhum</td>\n",
       "      <td>tasty</td>\n",
       "      <td>mutton_dhum</td>\n",
       "    </tr>\n",
       "    <tr>\n",
       "      <th>2</th>\n",
       "      <td>chicken_dhum</td>\n",
       "      <td>tasty</td>\n",
       "      <td>mutton_fry</td>\n",
       "    </tr>\n",
       "    <tr>\n",
       "      <th>3</th>\n",
       "      <td>chicken_fry</td>\n",
       "      <td>tasty</td>\n",
       "      <td>mutton_dhum</td>\n",
       "    </tr>\n",
       "    <tr>\n",
       "      <th>4</th>\n",
       "      <td>chicken_fry</td>\n",
       "      <td>tasty</td>\n",
       "      <td>mutton_fry</td>\n",
       "    </tr>\n",
       "    <tr>\n",
       "      <th>5</th>\n",
       "      <td>chicken_roast</td>\n",
       "      <td>spicy</td>\n",
       "      <td>mutton_roast</td>\n",
       "    </tr>\n",
       "    <tr>\n",
       "      <th>6</th>\n",
       "      <td>chicken_roast</td>\n",
       "      <td>spicy</td>\n",
       "      <td>mutton_kheema</td>\n",
       "    </tr>\n",
       "    <tr>\n",
       "      <th>7</th>\n",
       "      <td>chicken_65</td>\n",
       "      <td>spicy</td>\n",
       "      <td>mutton_roast</td>\n",
       "    </tr>\n",
       "    <tr>\n",
       "      <th>8</th>\n",
       "      <td>chicken_65</td>\n",
       "      <td>spicy</td>\n",
       "      <td>mutton_kheema</td>\n",
       "    </tr>\n",
       "  </tbody>\n",
       "</table>\n",
       "</div>"
      ],
      "text/plain": [
       "       foodname_x  taste     foodname_y\n",
       "0  chicken_khabab   good  mutton_khabab\n",
       "1    chicken_dhum  tasty    mutton_dhum\n",
       "2    chicken_dhum  tasty     mutton_fry\n",
       "3     chicken_fry  tasty    mutton_dhum\n",
       "4     chicken_fry  tasty     mutton_fry\n",
       "5   chicken_roast  spicy   mutton_roast\n",
       "6   chicken_roast  spicy  mutton_kheema\n",
       "7      chicken_65  spicy   mutton_roast\n",
       "8      chicken_65  spicy  mutton_kheema"
      ]
     },
     "execution_count": 16,
     "metadata": {},
     "output_type": "execute_result"
    }
   ],
   "source": [
    "dfcm=dfchick.merge(dfmutton,on=\"taste\",how=\"outer\")\n",
    "dfcm"
   ]
  },
  {
   "cell_type": "code",
   "execution_count": 17,
   "id": "b0a7efa5",
   "metadata": {},
   "outputs": [
    {
     "data": {
      "text/plain": [
       "taste\n",
       "good     1\n",
       "spicy    4\n",
       "tasty    4\n",
       "Name: foodname_y, dtype: int64"
      ]
     },
     "execution_count": 17,
     "metadata": {},
     "output_type": "execute_result"
    }
   ],
   "source": [
    "dfcm.groupby(\"taste\")[\"foodname_y\"].count()"
   ]
  },
  {
   "cell_type": "code",
   "execution_count": 18,
   "id": "7bf62f8e",
   "metadata": {},
   "outputs": [
    {
     "data": {
      "text/plain": [
       "foodname\n",
       "mutton_dhum      1\n",
       "mutton_fry       1\n",
       "mutton_khabab    1\n",
       "mutton_kheema    1\n",
       "mutton_roast     1\n",
       "Name: taste, dtype: int64"
      ]
     },
     "execution_count": 18,
     "metadata": {},
     "output_type": "execute_result"
    }
   ],
   "source": [
    "dfmutton.groupby(\"foodname\")[\"taste\"].count()"
   ]
  },
  {
   "cell_type": "code",
   "execution_count": null,
   "id": "2e4b4041",
   "metadata": {},
   "outputs": [],
   "source": []
  },
  {
   "cell_type": "code",
   "execution_count": null,
   "id": "b625fc82",
   "metadata": {},
   "outputs": [],
   "source": []
  },
  {
   "cell_type": "code",
   "execution_count": null,
   "id": "3542c806",
   "metadata": {},
   "outputs": [],
   "source": []
  },
  {
   "cell_type": "code",
   "execution_count": null,
   "id": "2dc6f028",
   "metadata": {},
   "outputs": [],
   "source": []
  },
  {
   "cell_type": "code",
   "execution_count": null,
   "id": "a452a940",
   "metadata": {},
   "outputs": [],
   "source": []
  },
  {
   "cell_type": "code",
   "execution_count": null,
   "id": "e9b6cec5",
   "metadata": {},
   "outputs": [],
   "source": []
  }
 ],
 "metadata": {
  "kernelspec": {
   "display_name": "Python 3 (ipykernel)",
   "language": "python",
   "name": "python3"
  },
  "language_info": {
   "codemirror_mode": {
    "name": "ipython",
    "version": 3
   },
   "file_extension": ".py",
   "mimetype": "text/x-python",
   "name": "python",
   "nbconvert_exporter": "python",
   "pygments_lexer": "ipython3",
   "version": "3.10.9"
  }
 },
 "nbformat": 4,
 "nbformat_minor": 5
}
