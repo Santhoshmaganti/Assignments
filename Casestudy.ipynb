{
 "cells": [
  {
   "cell_type": "code",
   "execution_count": 12,
   "id": "4af8b614",
   "metadata": {},
   "outputs": [],
   "source": [
    "def divide(x, y):\n",
    "    try:\n",
    "        # Floor Division : Gives only Fractional Part as Answer\n",
    "        result = x // y\n",
    "        print(\"Yeah ! Your answer is :\", result)\n",
    "    except ZeroDivisionError:\n",
    "        print(\"Sorry ! You are dividing by zero \")"
   ]
  },
  {
   "cell_type": "code",
   "execution_count": 13,
   "id": "d2dc5f07",
   "metadata": {},
   "outputs": [
    {
     "name": "stdout",
     "output_type": "stream",
     "text": [
      "Yeah ! Your answer is : 2\n"
     ]
    }
   ],
   "source": [
    "divide(18,9)"
   ]
  },
  {
   "cell_type": "code",
   "execution_count": 12,
   "id": "0f36681c",
   "metadata": {},
   "outputs": [],
   "source": [
    "def sum(a,b,c,d,e):\n",
    "    c=a+b+c+d+e\n",
    "    return c\n",
    "    "
   ]
  },
  {
   "cell_type": "code",
   "execution_count": 13,
   "id": "d54bac81",
   "metadata": {},
   "outputs": [
    {
     "data": {
      "text/plain": [
       "20"
      ]
     },
     "execution_count": 13,
     "metadata": {},
     "output_type": "execute_result"
    }
   ],
   "source": [
    "sum(8, 2, 3, 0, 7)"
   ]
  },
  {
   "cell_type": "code",
   "execution_count": null,
   "id": "9c92d895",
   "metadata": {},
   "outputs": [],
   "source": [
    "2. Write a function for below scenario. \n",
    "Param has 1000 rupess, ramu contains 5 chocolates, param give 500 rupees to ramu,\n",
    "ramu contains 10 chocolates, param give 700 rupees to ramu, \n",
    "ramu contains no chocolates param give 1000 rupees to ramu.\n"
   ]
  },
  {
   "cell_type": "code",
   "execution_count": 12,
   "id": "cdaba54e",
   "metadata": {},
   "outputs": [],
   "source": [
    "def param_ramu(chocolates):\n",
    "    if chocolates==5:\n",
    "        rupees=500\n",
    "    elif chocolates==10:\n",
    "        rupees=700\n",
    "    elif chocolates==0:\n",
    "        rupees=1000\n",
    "    return rupees"
   ]
  },
  {
   "cell_type": "code",
   "execution_count": 14,
   "id": "ca63f1c1",
   "metadata": {},
   "outputs": [
    {
     "data": {
      "text/plain": [
       "1000"
      ]
     },
     "execution_count": 14,
     "metadata": {},
     "output_type": "execute_result"
    }
   ],
   "source": [
    "param_ramu(0)"
   ]
  },
  {
   "cell_type": "code",
   "execution_count": 15,
   "id": "18000358",
   "metadata": {},
   "outputs": [],
   "source": [
    "def Big_billion_festival(bill_amount,discount):\n",
    "    if bill_amount>1000:\n",
    "        discount=bill_amount*.25\n",
    "    elif bill_amount<500:\n",
    "        discount=bill_amount*.5\n",
    "    elif bill_amount>=500 and bill_amount<=1000:\n",
    "        discount=bill_amount*.20\n",
    "    return discount"
   ]
  },
  {
   "cell_type": "code",
   "execution_count": 16,
   "id": "5d73966d",
   "metadata": {},
   "outputs": [
    {
     "data": {
      "text/plain": [
       "275.0"
      ]
     },
     "execution_count": 16,
     "metadata": {},
     "output_type": "execute_result"
    }
   ],
   "source": [
    "Big_billion_festival(1100,25)"
   ]
  },
  {
   "cell_type": "code",
   "execution_count": 21,
   "id": "375c60fa",
   "metadata": {},
   "outputs": [],
   "source": [
    "def Big_billion_festival(bill_amount,discount):\n",
    "    if bill_amount>1000:\n",
    "        discount=bill_amount*.25\n",
    "    elif bill_amount<500:\n",
    "        discount=bill_amount*.05\n",
    "    elif bill_amount>=500 and bill_amount<=1000:\n",
    "        discount=bill_amount*.20\n",
    "    return discount"
   ]
  },
  {
   "cell_type": "code",
   "execution_count": 22,
   "id": "d360c62a",
   "metadata": {},
   "outputs": [
    {
     "data": {
      "text/plain": [
       "24.950000000000003"
      ]
     },
     "execution_count": 22,
     "metadata": {},
     "output_type": "execute_result"
    }
   ],
   "source": [
    "Big_billion_festival(499,5)"
   ]
  },
  {
   "cell_type": "code",
   "execution_count": 23,
   "id": "4cd9ebe6",
   "metadata": {},
   "outputs": [],
   "source": [
    "def Big_billion_festival(bill_amount,discount):\n",
    "    if bill_amount>1000:\n",
    "        discount=bill_amount*.25\n",
    "    elif bill_amount<500:\n",
    "        discount=bill_amount*.05\n",
    "    elif bill_amount>=500 and bill_amount<=1000:\n",
    "        discount=bill_amount*.20\n",
    "    return discount"
   ]
  },
  {
   "cell_type": "code",
   "execution_count": 24,
   "id": "a264ab5a",
   "metadata": {},
   "outputs": [
    {
     "data": {
      "text/plain": [
       "179.8"
      ]
     },
     "execution_count": 24,
     "metadata": {},
     "output_type": "execute_result"
    }
   ],
   "source": [
    "Big_billion_festival(899,20)"
   ]
  },
  {
   "cell_type": "code",
   "execution_count": 29,
   "id": "bd0fe67c",
   "metadata": {},
   "outputs": [],
   "source": [
    "def big_billion_festival(shirts,shirt_value):\n",
    "    if shirts==1:\n",
    "        shirt_value=shirts*1500\n",
    "    elif shirts==2:\n",
    "        shirt_value=shirts*1200\n",
    "    elif shirts>=3:\n",
    "        shirt_value=shirts*1000\n",
    "    return shirt_value"
   ]
  },
  {
   "cell_type": "code",
   "execution_count": 34,
   "id": "b3c032d3",
   "metadata": {},
   "outputs": [
    {
     "data": {
      "text/plain": [
       "5000"
      ]
     },
     "execution_count": 34,
     "metadata": {},
     "output_type": "execute_result"
    }
   ],
   "source": [
    " big_billion_festival(5,1000)"
   ]
  },
  {
   "cell_type": "code",
   "execution_count": 41,
   "id": "f03bd00c",
   "metadata": {},
   "outputs": [
    {
     "data": {
      "text/plain": [
       "(1, 2, 3, 3, 3, 3, 4, 5)"
      ]
     },
     "execution_count": 41,
     "metadata": {},
     "output_type": "execute_result"
    }
   ],
   "source": [
    "lst"
   ]
  },
  {
   "cell_type": "code",
   "execution_count": 45,
   "id": "1653a39f",
   "metadata": {},
   "outputs": [],
   "source": [
    "lst=(1,2,3,3,3,3,4,5)"
   ]
  },
  {
   "cell_type": "code",
   "execution_count": 46,
   "id": "f05a0fac",
   "metadata": {},
   "outputs": [],
   "source": [
    "seq_set=set(lst)"
   ]
  },
  {
   "cell_type": "code",
   "execution_count": 47,
   "id": "d7826937",
   "metadata": {},
   "outputs": [
    {
     "name": "stdout",
     "output_type": "stream",
     "text": [
      "{1, 2, 3, 4, 5}\n"
     ]
    }
   ],
   "source": [
    "print(seq_set)"
   ]
  },
  {
   "cell_type": "code",
   "execution_count": 54,
   "id": "4d8f37b3",
   "metadata": {},
   "outputs": [
    {
     "name": "stdout",
     "output_type": "stream",
     "text": [
      "The original string is : ramu\n",
      "The reversed string(using loops) is : umar\n"
     ]
    }
   ],
   "source": [
    "def reverse(s):\n",
    "    str = \"\"\n",
    "    for i in s:\n",
    "        str = i + str\n",
    "    return str\n",
    " \n",
    "s = \"ramu\"\n",
    " \n",
    "print(\"The original string is : \", end=\"\")\n",
    "print(s)\n",
    " \n",
    "print(\"The reversed string(using loops) is : \", end=\"\")\n",
    "print(reverse(s))"
   ]
  },
  {
   "cell_type": "code",
   "execution_count": null,
   "id": "837443a9",
   "metadata": {},
   "outputs": [],
   "source": []
  },
  {
   "cell_type": "code",
   "execution_count": null,
   "id": "515b7090",
   "metadata": {},
   "outputs": [],
   "source": []
  },
  {
   "cell_type": "code",
   "execution_count": null,
   "id": "caf1b46c",
   "metadata": {},
   "outputs": [],
   "source": []
  },
  {
   "cell_type": "code",
   "execution_count": null,
   "id": "287618d1",
   "metadata": {},
   "outputs": [],
   "source": []
  }
 ],
 "metadata": {
  "kernelspec": {
   "display_name": "Python 3 (ipykernel)",
   "language": "python",
   "name": "python3"
  },
  "language_info": {
   "codemirror_mode": {
    "name": "ipython",
    "version": 3
   },
   "file_extension": ".py",
   "mimetype": "text/x-python",
   "name": "python",
   "nbconvert_exporter": "python",
   "pygments_lexer": "ipython3",
   "version": "3.10.9"
  }
 },
 "nbformat": 4,
 "nbformat_minor": 5
}
