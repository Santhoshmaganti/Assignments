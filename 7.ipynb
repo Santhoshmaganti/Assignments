{
 "cells": [
  {
   "cell_type": "code",
   "execution_count": 1,
   "id": "b69e66dd",
   "metadata": {},
   "outputs": [],
   "source": [
    "def credit_card_offer(salary,credit_limit):\n",
    "    if salary<10000:\n",
    "        credit_limit=salary*10\n",
    "    elif salary>=10000 and salary<=30000:\n",
    "        credit_limit=salary*20\n",
    "    elif salary>30000:\n",
    "        credit_limit=salary*30\n",
    "    return credit_limit"
   ]
  },
  {
   "cell_type": "code",
   "execution_count": 2,
   "id": "84505e21",
   "metadata": {},
   "outputs": [
    {
     "data": {
      "text/plain": [
       "200000"
      ]
     },
     "execution_count": 2,
     "metadata": {},
     "output_type": "execute_result"
    }
   ],
   "source": [
    "credit_card_offer(10000,20)"
   ]
  },
  {
   "cell_type": "code",
   "execution_count": 3,
   "id": "6c3e6a64",
   "metadata": {},
   "outputs": [],
   "source": [
    "def DMart_discount_offer(purchase_amount,discount):\n",
    "    if purchase_amount<20000:\n",
    "        discount=purchase_amount*.20\n",
    "    elif purchase_amount>=20000 and purchase_amount<=40000:\n",
    "        discount=purchase_amount*.30\n",
    "    elif purchase_amount>50000:\n",
    "        discount=purchase_amount*.40\n",
    "    return discount"
   ]
  },
  {
   "cell_type": "code",
   "execution_count": 4,
   "id": "d214c7b6",
   "metadata": {},
   "outputs": [
    {
     "data": {
      "text/plain": [
       "7500.0"
      ]
     },
     "execution_count": 4,
     "metadata": {},
     "output_type": "execute_result"
    }
   ],
   "source": [
    "DMart_discount_offer(25000,30)"
   ]
  },
  {
   "cell_type": "code",
   "execution_count": 5,
   "id": "54d51d3c",
   "metadata": {},
   "outputs": [
    {
     "data": {
      "text/plain": [
       "1000.0"
      ]
     },
     "execution_count": 5,
     "metadata": {},
     "output_type": "execute_result"
    }
   ],
   "source": [
    "DMart_discount_offer(5000,20)"
   ]
  },
  {
   "cell_type": "code",
   "execution_count": 6,
   "id": "2916f395",
   "metadata": {},
   "outputs": [
    {
     "data": {
      "text/plain": [
       "20400.0"
      ]
     },
     "execution_count": 6,
     "metadata": {},
     "output_type": "execute_result"
    }
   ],
   "source": [
    "DMart_discount_offer(51000,40)"
   ]
  },
  {
   "cell_type": "code",
   "execution_count": 7,
   "id": "4cddf9f9",
   "metadata": {},
   "outputs": [],
   "source": [
    "def Amazom_online_offer(product_type,discount,amount):\n",
    "    if product_type==\"electronic\":\n",
    "        discount=amount*.20\n",
    "    elif product_type==\"cloth\":\n",
    "        discount=amount*.30\n",
    "    elif product_type==\"footware\":\n",
    "        discount=amount*.40\n",
    "    return (discount)"
   ]
  },
  {
   "cell_type": "code",
   "execution_count": 8,
   "id": "a99798a8",
   "metadata": {},
   "outputs": [
    {
     "data": {
      "text/plain": [
       "200.0"
      ]
     },
     "execution_count": 8,
     "metadata": {},
     "output_type": "execute_result"
    }
   ],
   "source": [
    "Amazom_online_offer(\"electronic\",20,1000)"
   ]
  },
  {
   "cell_type": "code",
   "execution_count": 9,
   "id": "e0e3744f",
   "metadata": {},
   "outputs": [
    {
     "data": {
      "text/plain": [
       "300.0"
      ]
     },
     "execution_count": 9,
     "metadata": {},
     "output_type": "execute_result"
    }
   ],
   "source": [
    "Amazom_online_offer(\"cloth\",30,1000)"
   ]
  },
  {
   "cell_type": "code",
   "execution_count": 10,
   "id": "8c7acb28",
   "metadata": {},
   "outputs": [
    {
     "data": {
      "text/plain": [
       "400.0"
      ]
     },
     "execution_count": 10,
     "metadata": {},
     "output_type": "execute_result"
    }
   ],
   "source": [
    "Amazom_online_offer(\"footware\",40,1000)"
   ]
  },
  {
   "cell_type": "code",
   "execution_count": null,
   "id": "4a066e55",
   "metadata": {},
   "outputs": [],
   "source": []
  }
 ],
 "metadata": {
  "kernelspec": {
   "display_name": "Python 3 (ipykernel)",
   "language": "python",
   "name": "python3"
  },
  "language_info": {
   "codemirror_mode": {
    "name": "ipython",
    "version": 3
   },
   "file_extension": ".py",
   "mimetype": "text/x-python",
   "name": "python",
   "nbconvert_exporter": "python",
   "pygments_lexer": "ipython3",
   "version": "3.10.9"
  }
 },
 "nbformat": 4,
 "nbformat_minor": 5
}
