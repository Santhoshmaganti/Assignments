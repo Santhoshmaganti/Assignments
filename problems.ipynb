{
 "cells": [
  {
   "cell_type": "code",
   "execution_count": 24,
   "id": "30b3877c",
   "metadata": {},
   "outputs": [
    {
     "name": "stdout",
     "output_type": "stream",
     "text": [
      "40% discount\n"
     ]
    }
   ],
   "source": [
    "purchase_product=\"a+b+c\"\n",
    "if purchase_product==\"a\":\n",
    "    print(\"20% discount\")\n",
    "elif purchase_product==\"b\":\n",
    "    print(\"0% discount\")\n",
    "elif purchase_product==\"a+b\":\n",
    "    print(\"30% discount\")\n",
    "elif purchase_product==\"c\":\n",
    "    print(\"0% discount\")\n",
    "elif purchase_product==\"a+b+c\":\n",
    "     print(\"40% discount\")\n",
    "elif purchase_product==\"d\":\n",
    "    print(\"0% discount\")\n",
    "elif purchase_product==\"a+b+c+d\":\n",
    "    print(\"50% discount\")\n",
    "else:\n",
    "    print(\"Invalid\")"
   ]
  },
  {
   "cell_type": "code",
   "execution_count": 26,
   "id": "ef5e35b4",
   "metadata": {},
   "outputs": [],
   "source": [
    "def product(purchase_product,existing_products):\n",
    "    if purchase_product==\"a\":\n",
    "        print(\"20% discount\")\n",
    "    elif purchase_product==\"b\":\n",
    "        print(\"0% discount\")\n",
    "    elif ((purchase_product==\"b\") and (existing_product==\"a\")):\n",
    "        print(\"30% discount\")\n",
    "    elif purchase_product==\"c\":\n",
    "        print(\"0% discount\")\n",
    "    elif ((purchase_product==\"c\")and (existing_product==\"a\")and (existing_product==\"b\")):\n",
    "        print(\"40% discount\")\n",
    "    elif purchase_product==\"d\":\n",
    "        print(\"0% discount\")\n",
    "    elif purchase_product==\"d\"and existing_product==[\"a\",\"b\",\"c\"]:\n",
    "        print(\"50% discount\")\n",
    "    else:\n",
    "        print(\"Invalid\")"
   ]
  },
  {
   "cell_type": "code",
   "execution_count": 29,
   "id": "a5e65778",
   "metadata": {},
   "outputs": [
    {
     "name": "stdout",
     "output_type": "stream",
     "text": [
      "20% discount\n"
     ]
    }
   ],
   "source": [
    "#product(\"c\",[\"a\",\"b\"])\n",
    "product(\"a\",[\"b\",\"c\"])"
   ]
  },
  {
   "cell_type": "code",
   "execution_count": null,
   "id": "39f3c8b4",
   "metadata": {},
   "outputs": [],
   "source": []
  },
  {
   "cell_type": "code",
   "execution_count": 2,
   "id": "e76faaa1",
   "metadata": {},
   "outputs": [],
   "source": [
    "def offer(purchase_product,having_product,condition):\n",
    "    if purchase_product==\"a\" and having_product==\"c\" and condition==\"damaged\":\n",
    "        print(\"discount is 10%\")\n",
    "    elif purchase_product==\"a\" and having_product==\"c\" and condition==\"undamaged\":\n",
    "        print(\"discount is 30%\")\n",
    "    elif purchase_product==\"c\" and having_product==\"a\" and condition==\"damaged\":\n",
    "        print(\"discount is 10%\")\n",
    "    elif purchase_product==\"c\" and having_product==\"a\" and condition==\"undamaged\":\n",
    "        print(\"discount is 30%\")\n",
    "    elif purchase_product==\"b\" and having_product==\"d\" and condition==\"damaged\":\n",
    "        print(\"discount is 10%\")\n",
    "    elif purchase_product==\"b\" and having_product==\"d\" and condition==\"undamaged\":\n",
    "        print(\"discount is 30%\")\n",
    "    elif purchase_product==\"d\" and having_product==\"b\" and condition==\"damaged\":\n",
    "        print(\"discount is 10%\")\n",
    "    elif purchase_product==\"d\" and having_product==\"b\" and condition==\"undamaged\":\n",
    "        print(\"discount is 30%\")\n",
    "    else:\n",
    "        print(\"no discount\")"
   ]
  },
  {
   "cell_type": "code",
   "execution_count": 3,
   "id": "59e3cdad",
   "metadata": {},
   "outputs": [
    {
     "name": "stdout",
     "output_type": "stream",
     "text": [
      "discount is 30%\n"
     ]
    }
   ],
   "source": [
    "offer(\"a\",\"c\",\"undamaged\")"
   ]
  },
  {
   "cell_type": "code",
   "execution_count": 4,
   "id": "06153285",
   "metadata": {},
   "outputs": [
    {
     "name": "stdout",
     "output_type": "stream",
     "text": [
      "discount is 10%\n"
     ]
    }
   ],
   "source": [
    "offer(\"a\",\"c\",\"damaged\")"
   ]
  },
  {
   "cell_type": "code",
   "execution_count": 5,
   "id": "27f0191b",
   "metadata": {},
   "outputs": [
    {
     "name": "stdout",
     "output_type": "stream",
     "text": [
      "discount is 30%\n"
     ]
    }
   ],
   "source": [
    "offer(\"b\",\"d\",\"undamaged\")"
   ]
  },
  {
   "cell_type": "code",
   "execution_count": 6,
   "id": "f855d331",
   "metadata": {},
   "outputs": [
    {
     "name": "stdout",
     "output_type": "stream",
     "text": [
      "discount is 10%\n"
     ]
    }
   ],
   "source": [
    "offer(\"b\",\"d\",\"damaged\")"
   ]
  },
  {
   "cell_type": "code",
   "execution_count": null,
   "id": "3fa3929e",
   "metadata": {},
   "outputs": [],
   "source": []
  },
  {
   "cell_type": "code",
   "execution_count": 5,
   "id": "eab3aa8c",
   "metadata": {},
   "outputs": [],
   "source": [
    "def product(purchase_product,existing_product):\n",
    "    if purchase_product==\"a\":\n",
    "        print(\"20% discount\")\n",
    "    elif purchase_product==\"b\":\n",
    "        print(\"0% discount\")\n",
    "    elif purchase_product==\"b\" and existing_product==\"a\":\n",
    "        print(\"30% discount\")"
   ]
  },
  {
   "cell_type": "code",
   "execution_count": 6,
   "id": "adbcf7be",
   "metadata": {},
   "outputs": [
    {
     "name": "stdout",
     "output_type": "stream",
     "text": [
      "0% discount\n"
     ]
    }
   ],
   "source": [
    "product(\"b\",\"a\")"
   ]
  },
  {
   "cell_type": "code",
   "execution_count": null,
   "id": "e213d9e5",
   "metadata": {},
   "outputs": [],
   "source": []
  },
  {
   "cell_type": "code",
   "execution_count": 4,
   "id": "157890f5",
   "metadata": {},
   "outputs": [
    {
     "name": "stdout",
     "output_type": "stream",
     "text": [
      "Discount is 50%\n"
     ]
    }
   ],
   "source": [
    "product=\"d\"\n",
    "existing_product=[\"a\",\"b\",\"c\",\"d\"]\n",
    "\n",
    "if product==\"a\":\n",
    "    print(\"Discount is 20%\")\n",
    "elif product==\"b\":\n",
    "    if existing_product[0]==\"a\":\n",
    "        print(\"Discount is 30%\")\n",
    "    else:\n",
    "        print(\"No discount\")\n",
    "elif product==\"b\":\n",
    "    if existing_product[0]==\"a\":\n",
    "        print(\"Discount is 30%\")\n",
    "    else:\n",
    "        print(\"No discount\")\n",
    "elif product==\"c\":\n",
    "    if (existing_product[0]==\"a\") and (existing_product[1]==\"b\"):\n",
    "        print(\"Discount is 40%\")\n",
    "    else:\n",
    "        print(\"No discount\")\n",
    "elif product==\"d\":\n",
    "    if (existing_product[0]==\"a\") and (existing_product[1]==\"b\") and (existing_product[2]==\"c\"):\n",
    "        print(\"Discount is 50%\")\n",
    "    else:\n",
    "        print(\"No discount\")\n",
    "else:\n",
    "    print(\"No discount\")"
   ]
  },
  {
   "cell_type": "code",
   "execution_count": null,
   "id": "78a944cb",
   "metadata": {},
   "outputs": [],
   "source": []
  },
  {
   "cell_type": "code",
   "execution_count": null,
   "id": "f2a7d3da",
   "metadata": {},
   "outputs": [],
   "source": []
  },
  {
   "cell_type": "code",
   "execution_count": null,
   "id": "41ea4f19",
   "metadata": {},
   "outputs": [],
   "source": []
  }
 ],
 "metadata": {
  "kernelspec": {
   "display_name": "Python 3 (ipykernel)",
   "language": "python",
   "name": "python3"
  },
  "language_info": {
   "codemirror_mode": {
    "name": "ipython",
    "version": 3
   },
   "file_extension": ".py",
   "mimetype": "text/x-python",
   "name": "python",
   "nbconvert_exporter": "python",
   "pygments_lexer": "ipython3",
   "version": "3.10.9"
  }
 },
 "nbformat": 4,
 "nbformat_minor": 5
}
