{
 "cells": [
  {
   "cell_type": "code",
   "execution_count": 1,
   "id": "6bebfbba",
   "metadata": {},
   "outputs": [],
   "source": [
    "dict={\"Family_members\":[\"Veera Brahmmam\",\"Ratna kumari\",\"Sravanthi\",\"Sravani\"]}"
   ]
  },
  {
   "cell_type": "code",
   "execution_count": 2,
   "id": "c8abab6f",
   "metadata": {},
   "outputs": [
    {
     "data": {
      "text/plain": [
       "{'Family_members': ['Veera Brahmmam', 'Ratna kumari', 'Sravanthi', 'Sravani']}"
      ]
     },
     "execution_count": 2,
     "metadata": {},
     "output_type": "execute_result"
    }
   ],
   "source": [
    "dict"
   ]
  },
  {
   "cell_type": "code",
   "execution_count": 3,
   "id": "8a534308",
   "metadata": {},
   "outputs": [],
   "source": [
    "dict={\"Family_members\":[\"Veera Brahmmam\",\"Ratna kumari\",\"Sravanthi\",\"Sravani\"],\"relations\":[\"Father\",\"Mother\",\"Sister\",\"Sister\"]}"
   ]
  },
  {
   "cell_type": "code",
   "execution_count": 4,
   "id": "a96e0506",
   "metadata": {},
   "outputs": [
    {
     "data": {
      "text/plain": [
       "{'Family_members': ['Veera Brahmmam', 'Ratna kumari', 'Sravanthi', 'Sravani'],\n",
       " 'relations': ['Father', 'Mother', 'Sister', 'Sister']}"
      ]
     },
     "execution_count": 4,
     "metadata": {},
     "output_type": "execute_result"
    }
   ],
   "source": [
    "dict"
   ]
  },
  {
   "cell_type": "code",
   "execution_count": 5,
   "id": "fcfa9048",
   "metadata": {},
   "outputs": [
    {
     "data": {
      "text/plain": [
       "['Veera Brahmmam']"
      ]
     },
     "execution_count": 5,
     "metadata": {},
     "output_type": "execute_result"
    }
   ],
   "source": [
    "dict[\"Family_members\"][0:1]"
   ]
  },
  {
   "cell_type": "code",
   "execution_count": 6,
   "id": "4eba92b7",
   "metadata": {},
   "outputs": [],
   "source": [
    "Friends_qualities={\"friend_names\":[\"hari\",\"harsha\",\"varun\",\"vamsi\"],\"quality\":[\"intelligent\",\"talkative\",\"anger\",\"funny\"]}"
   ]
  },
  {
   "cell_type": "code",
   "execution_count": 7,
   "id": "e5da83e8",
   "metadata": {},
   "outputs": [
    {
     "data": {
      "text/plain": [
       "{'friend_names': ['hari', 'harsha', 'varun', 'vamsi'],\n",
       " 'quality': ['intelligent', 'talkative', 'anger', 'funny']}"
      ]
     },
     "execution_count": 7,
     "metadata": {},
     "output_type": "execute_result"
    }
   ],
   "source": [
    "Friends_qualities"
   ]
  },
  {
   "cell_type": "code",
   "execution_count": 8,
   "id": "da26d9d8",
   "metadata": {},
   "outputs": [
    {
     "data": {
      "text/plain": [
       "['hari']"
      ]
     },
     "execution_count": 8,
     "metadata": {},
     "output_type": "execute_result"
    }
   ],
   "source": [
    "Friends_qualities[\"friend_names\"][0:1]"
   ]
  },
  {
   "cell_type": "code",
   "execution_count": 9,
   "id": "a849a546",
   "metadata": {},
   "outputs": [
    {
     "data": {
      "text/plain": [
       "['varun']"
      ]
     },
     "execution_count": 9,
     "metadata": {},
     "output_type": "execute_result"
    }
   ],
   "source": [
    "Friends_qualities[\"friend_names\"][2:3]"
   ]
  },
  {
   "cell_type": "code",
   "execution_count": 10,
   "id": "38bc3390",
   "metadata": {},
   "outputs": [],
   "source": [
    "Food_items={\"veg_items\":[\"panner biryani\",\"butternan\",\"baby corn\",\"aloo samosa\"],\"rating\":(3,1,5,4)}"
   ]
  },
  {
   "cell_type": "code",
   "execution_count": 11,
   "id": "7a0665ed",
   "metadata": {},
   "outputs": [
    {
     "data": {
      "text/plain": [
       "{'veg_items': ['panner biryani', 'butternan', 'baby corn', 'aloo samosa'],\n",
       " 'rating': (3, 1, 5, 4)}"
      ]
     },
     "execution_count": 11,
     "metadata": {},
     "output_type": "execute_result"
    }
   ],
   "source": [
    "Food_items"
   ]
  },
  {
   "cell_type": "code",
   "execution_count": 12,
   "id": "2da01592",
   "metadata": {},
   "outputs": [
    {
     "data": {
      "text/plain": [
       "['butternan']"
      ]
     },
     "execution_count": 12,
     "metadata": {},
     "output_type": "execute_result"
    }
   ],
   "source": [
    "Food_items[\"veg_items\"][1:2]"
   ]
  },
  {
   "cell_type": "code",
   "execution_count": 13,
   "id": "b642c53a",
   "metadata": {},
   "outputs": [],
   "source": [
    "Cities={\"destination\":[\"Bhimavaram\",\"Rajamundry\",\"Vijayawada\",\"Razole\"],\"rating\":[5,4,3,1]}"
   ]
  },
  {
   "cell_type": "code",
   "execution_count": 14,
   "id": "a56b6366",
   "metadata": {},
   "outputs": [
    {
     "data": {
      "text/plain": [
       "{'destination': ['Bhimavaram', 'Rajamundry', 'Vijayawada', 'Razole'],\n",
       " 'rating': [5, 4, 3, 1]}"
      ]
     },
     "execution_count": 14,
     "metadata": {},
     "output_type": "execute_result"
    }
   ],
   "source": [
    "Cities"
   ]
  },
  {
   "cell_type": "code",
   "execution_count": 15,
   "id": "d6e36f06",
   "metadata": {},
   "outputs": [
    {
     "data": {
      "text/plain": [
       "['Vijayawada']"
      ]
     },
     "execution_count": 15,
     "metadata": {},
     "output_type": "execute_result"
    }
   ],
   "source": [
    "Cities[\"destination\"][2:3]"
   ]
  },
  {
   "cell_type": "code",
   "execution_count": null,
   "id": "f14e1b6f",
   "metadata": {},
   "outputs": [],
   "source": []
  },
  {
   "cell_type": "code",
   "execution_count": 16,
   "id": "b0b735ce",
   "metadata": {},
   "outputs": [],
   "source": [
    "event={\"father\":\"Veera brahmmam\",\"mother\":\"ratna kumari\",\"sister\":\"sravanthi\"}"
   ]
  },
  {
   "cell_type": "code",
   "execution_count": 17,
   "id": "1404256b",
   "metadata": {},
   "outputs": [
    {
     "name": "stdout",
     "output_type": "stream",
     "text": [
      "favourite Veera brahmmam\n"
     ]
    }
   ],
   "source": [
    "print(\"favourite\",event[\"father\"])"
   ]
  },
  {
   "cell_type": "code",
   "execution_count": 18,
   "id": "3660127b",
   "metadata": {},
   "outputs": [
    {
     "name": "stdout",
     "output_type": "stream",
     "text": [
      "favourite Veera brahmmam\n",
      "unfavourite sravanthi\n"
     ]
    }
   ],
   "source": [
    "event={\"father\":\"Veera brahmmam\",\"mother\":\"ratna kumari\",\"sister\":\"sravanthi\"}\n",
    "fav=event['father']\n",
    "unfav=event[\"sister\"]\n",
    "print(\"favourite\",fav)\n",
    "print(\"unfavourite\",unfav)"
   ]
  },
  {
   "cell_type": "code",
   "execution_count": null,
   "id": "6c104624",
   "metadata": {},
   "outputs": [],
   "source": []
  },
  {
   "cell_type": "code",
   "execution_count": null,
   "id": "7b4a4ff7",
   "metadata": {},
   "outputs": [],
   "source": []
  },
  {
   "cell_type": "code",
   "execution_count": null,
   "id": "1d4bec99",
   "metadata": {},
   "outputs": [],
   "source": []
  },
  {
   "cell_type": "code",
   "execution_count": 19,
   "id": "e6e3a4a2",
   "metadata": {},
   "outputs": [],
   "source": [
    "dict1={\"family members\":[\"Veera Brahmmam\",\"Ratna kumari\",\"Sravanthi\",\"Sravani\"],\"relations\":[\"Father\",\"Mother\",\"Sister\",\"Sister\"]}"
   ]
  },
  {
   "cell_type": "code",
   "execution_count": 20,
   "id": "c1525a84",
   "metadata": {},
   "outputs": [
    {
     "data": {
      "text/plain": [
       "{'family members': ['Veera Brahmmam', 'Ratna kumari', 'Sravanthi', 'Sravani'],\n",
       " 'relations': ['Father', 'Mother', 'Sister', 'Sister']}"
      ]
     },
     "execution_count": 20,
     "metadata": {},
     "output_type": "execute_result"
    }
   ],
   "source": [
    "dict1"
   ]
  },
  {
   "cell_type": "code",
   "execution_count": 21,
   "id": "e5c52502",
   "metadata": {},
   "outputs": [
    {
     "data": {
      "text/plain": [
       "'Veera Brahmmam'"
      ]
     },
     "execution_count": 21,
     "metadata": {},
     "output_type": "execute_result"
    }
   ],
   "source": [
    "dict1[\"family members\"][0]\n",
    "\n"
   ]
  },
  {
   "cell_type": "code",
   "execution_count": null,
   "id": "9d686cd6",
   "metadata": {},
   "outputs": [],
   "source": []
  },
  {
   "cell_type": "code",
   "execution_count": 22,
   "id": "2a6a6c0a",
   "metadata": {},
   "outputs": [],
   "source": [
    "dict2={\"key\":[\"value\",\"value3\"],\"key2\":\"value2\"}"
   ]
  },
  {
   "cell_type": "code",
   "execution_count": 23,
   "id": "521f9e79",
   "metadata": {},
   "outputs": [
    {
     "data": {
      "text/plain": [
       "'value3'"
      ]
     },
     "execution_count": 23,
     "metadata": {},
     "output_type": "execute_result"
    }
   ],
   "source": [
    "favourite=dict2[\"key\"][1]\n",
    "favourite"
   ]
  }
 ],
 "metadata": {
  "kernelspec": {
   "display_name": "Python 3 (ipykernel)",
   "language": "python",
   "name": "python3"
  },
  "language_info": {
   "codemirror_mode": {
    "name": "ipython",
    "version": 3
   },
   "file_extension": ".py",
   "mimetype": "text/x-python",
   "name": "python",
   "nbconvert_exporter": "python",
   "pygments_lexer": "ipython3",
   "version": "3.10.9"
  }
 },
 "nbformat": 4,
 "nbformat_minor": 5
}
