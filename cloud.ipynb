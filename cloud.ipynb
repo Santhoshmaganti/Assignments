{
 "cells": [
  {
   "cell_type": "code",
   "execution_count": 35,
   "id": "701db155",
   "metadata": {},
   "outputs": [],
   "source": [
    "event={\"name\":\"santhosh\",\"a/c.no\":123456789,\"amount\":94000,\"credit_type\":\"credit\",\"loan\":\"no\",\"location\":\"non_metro\",\"age\":22,\"employment_type\":\"salaried\"}\n",
    "def details(event):\n",
    "    balance=100000\n",
    "    if event[\"name\"]==\"santhosh\" and event[\"a/c.no\"]==123456789:\n",
    "        if event[\"credit_type\"]==\"credit\":\n",
    "            balance=balance+event[\"amount\"]\n",
    "            if event[\"loan\"]==\"yes\":\n",
    "                balance=balance-1000\n",
    "                if event[\"location\"]==\"non_metro\":\n",
    "                    balance=balance-2000\n",
    "                    if event[\"age\"]>25:\n",
    "                        balance=balance+18000\n",
    "                    elif event[\"age\"]<=25:\n",
    "                        balance=balance+0\n",
    "                        if event[\"employment_type\"]==\"individual\":\n",
    "                            balance=balance+1000\n",
    "                        elif event[\"employment_type\"]==\"salaried\":\n",
    "                            balance=balance+0\n",
    "                        elif event[\"employment_type\"]==\"business\":\n",
    "                            balance=balance+500\n",
    "            elif event[\"loan\"]==\"no\":\n",
    "                balance=balance+1000\n",
    "                if event[\"location\"]==\"non_metro\":\n",
    "                    balance=balance-2000\n",
    "                    if event[\"age\"]>25:\n",
    "                        balance=balance+18000\n",
    "                    elif event[\"age\"]<=25:\n",
    "                        balance=balance+0\n",
    "                        if event[\"employment_type\"]==\"individual\":\n",
    "                            balance=balance+1000\n",
    "                        elif event[\"employment_type\"]==\"salaried\":\n",
    "                            balance=balance+0\n",
    "                        elif event[\"employment_type\"]==\"business\":\n",
    "                            balance=balance+500\n",
    "    return(balance)"
   ]
  },
  {
   "cell_type": "code",
   "execution_count": 36,
   "id": "1f54988b",
   "metadata": {},
   "outputs": [
    {
     "data": {
      "text/plain": [
       "193000"
      ]
     },
     "execution_count": 36,
     "metadata": {},
     "output_type": "execute_result"
    }
   ],
   "source": [
    "details(event)"
   ]
  },
  {
   "cell_type": "code",
   "execution_count": null,
   "id": "18b2b51d",
   "metadata": {},
   "outputs": [],
   "source": []
  },
  {
   "cell_type": "code",
   "execution_count": 33,
   "id": "4d43ac5a",
   "metadata": {},
   "outputs": [],
   "source": [
    "event={\"name\":\"santhosh\",\"a/c.no\":123456789,\"amount\":94000,\"credit_type\":\"debit\",\"loan\":\"no\",\"location\":\"non_metro\",\"age\":22,\"employment_type\":\"salaried\"}\n",
    "def details(event):\n",
    "    balance=100000\n",
    "    if event[\"name\"]==\"santhosh\" and event[\"a/c.no\"]==123456789:\n",
    "        if event[\"credit_type\"]==\"debit\":\n",
    "            balance=balance-event[\"amount\"]\n",
    "            if event[\"loan\"]==\"yes\":\n",
    "                balance=balance-1000\n",
    "                if event[\"location\"]==\"non_metro\":\n",
    "                    balance=balance-2000\n",
    "                    if event[\"age\"]>25:\n",
    "                        balance=balance+18000\n",
    "                    elif event[\"age\"]<=25:\n",
    "                        balance=balance+0\n",
    "                        if event[\"employment_type\"]==\"individual\":\n",
    "                            balance=balance+1000\n",
    "                        elif event[\"employment_type\"]==\"salaried\":\n",
    "                            balance=balance+0\n",
    "                        elif event[\"employment_type\"]==\"business\":\n",
    "                            balance=balance+500\n",
    "            elif event[\"loan\"]==\"no\":\n",
    "                balance=balance+1000\n",
    "                if event[\"location\"]==\"non_metro\":\n",
    "                    balance=balance-2000\n",
    "                    if event[\"age\"]>25:\n",
    "                        balance=balance+18000\n",
    "                    elif event[\"age\"]<=25:\n",
    "                        balance=balance+0\n",
    "                        if event[\"employment_type\"]==\"individual\":\n",
    "                            balance=balance+1000\n",
    "                        elif event[\"employment_type\"]==\"salaried\":\n",
    "                            balance=balance+0\n",
    "                        elif event[\"employment_type\"]==\"business\":\n",
    "                            balance=balance+500\n",
    "    return(balance)"
   ]
  },
  {
   "cell_type": "code",
   "execution_count": 34,
   "id": "7de305ca",
   "metadata": {},
   "outputs": [
    {
     "data": {
      "text/plain": [
       "5000"
      ]
     },
     "execution_count": 34,
     "metadata": {},
     "output_type": "execute_result"
    }
   ],
   "source": [
    "details(event)"
   ]
  },
  {
   "cell_type": "code",
   "execution_count": null,
   "id": "4769c99a",
   "metadata": {},
   "outputs": [],
   "source": []
  },
  {
   "cell_type": "code",
   "execution_count": null,
   "id": "b31894f3",
   "metadata": {},
   "outputs": [],
   "source": []
  },
  {
   "cell_type": "code",
   "execution_count": 11,
   "id": "87ce7f85",
   "metadata": {},
   "outputs": [],
   "source": [
    "event={\"tyres\":\"offroad\",\"size\":19,\"grip\":\"heavy\"}\n",
    "def Santhoshcaraccessories(event):\n",
    "    if event[\"tyres\"]==\"offroad\":\n",
    "        if event[\"size\"]==18:\n",
    "            if event[\"grip\"]==\"heavy\":\n",
    "                price=6000\n",
    "            elif event[\"grip\"]==\"medium\":\n",
    "                price=6500\n",
    "        elif event[\"size\"]==19:\n",
    "            if event[\"grip\"]==\"heavy\":\n",
    "                price=7000\n",
    "            elif event[\"grip\"]==\"medium\":\n",
    "                price=7500\n",
    "        elif event[\"size\"]==20:\n",
    "            if event[\"grip\"]==\"heavy\":\n",
    "                price=8000\n",
    "            elif event[\"grip\"]==\"medium\":\n",
    "                price=8500\n",
    "        else:\n",
    "            price=\"not available\"\n",
    "    elif event[\"tyres\"]==\"normal\":\n",
    "        if event[\"size\"]==18:\n",
    "            if event[\"grip\"]==\"heavy\":\n",
    "                price=3000\n",
    "            elif event[\"grip\"]==\"medium\":\n",
    "                price=3500\n",
    "        elif event[\"size\"]==19:\n",
    "            if event[\"grip\"]==\"heavy\":\n",
    "                price=4000\n",
    "            elif event[\"grip\"]==\"medium\":\n",
    "                price=4500\n",
    "        elif event[\"size\"]==20:\n",
    "            if event[\"grip\"]==\"heavy\":\n",
    "                price=5000\n",
    "            elif event[\"grip\"]==\"medium\":\n",
    "                price=5500\n",
    "        else:\n",
    "            price=\"not available\"\n",
    "    return({\"tyres\":event[\"tyres\"],\"size\":event[\"size\"],\"grip\":event[\"grip\"],\"price\":price})"
   ]
  },
  {
   "cell_type": "code",
   "execution_count": 12,
   "id": "192cba06",
   "metadata": {},
   "outputs": [
    {
     "data": {
      "text/plain": [
       "{'tyres': 'offroad', 'size': 19, 'grip': 'heavy', 'price': 7000}"
      ]
     },
     "execution_count": 12,
     "metadata": {},
     "output_type": "execute_result"
    }
   ],
   "source": [
    "Santhoshcaraccessories(event)"
   ]
  },
  {
   "cell_type": "code",
   "execution_count": null,
   "id": "1eef4797",
   "metadata": {},
   "outputs": [],
   "source": []
  },
  {
   "cell_type": "code",
   "execution_count": null,
   "id": "93414653",
   "metadata": {},
   "outputs": [],
   "source": []
  },
  {
   "cell_type": "code",
   "execution_count": null,
   "id": "7ad19b9e",
   "metadata": {},
   "outputs": [],
   "source": [
    "elif event[\"item\"]==\"wheels\":\n",
    "        if event[\"wheels_type\"]==\"alloys\":\n",
    "            if event[\"wheel_size\"]==18:\n",
    "                wheel_price=2000\n",
    "            elif event[\"wheel_size\"]==19:\n",
    "                wheel_price=3000\n",
    "            elif event[\"wheel_size\"]==20:\n",
    "                wheel_price=4000\n",
    "            else:\n",
    "                wheel_price=\"not_available\"\n",
    "        elif event[\"wheels_type\"]==\"normal\":\n",
    "            if event[\"wheel_size\"]==18:\n",
    "                wheel_price=1000\n",
    "            elif event[\"wheel_size\"]==19:\n",
    "                wheel_price=3000\n",
    "            elif event[\"wheel_size\"]==20:\n",
    "                wheel_price=5000\n",
    "            else:\n",
    "                wheel_price=\"not_available\"\n",
    "    return({\"item\":event[\"item\"],\"wheels_type\":event[\"wheels_type\"],\"wheel_size\":event[\"wheel_size\"],\"wheel_price\":wheel_price})"
   ]
  },
  {
   "cell_type": "code",
   "execution_count": null,
   "id": "f475b5a1",
   "metadata": {},
   "outputs": [],
   "source": []
  },
  {
   "cell_type": "code",
   "execution_count": 8,
   "id": "15e63946",
   "metadata": {},
   "outputs": [],
   "source": [
    "event={\"tyres\":\"offroad\",\"size\":20,\"grip\":\"heavy\"}\n",
    "import json\n",
    "def lamda_handler(event,context):\n",
    "    \n",
    "    if event[\"tyres\"]==\"offroad\":\n",
    "        if event[\"size\"]==18:\n",
    "            if event[\"grip\"]==\"heavy\":\n",
    "                price=6000\n",
    "            elif event[\"grip\"]==\"medium\":\n",
    "                price=6500\n",
    "            else:\n",
    "                price=\"not_available\"\n",
    "        elif event[\"size\"]==19:\n",
    "            if event[\"grip\"]==\"heavy\":\n",
    "                price=7000\n",
    "            elif event[\"grip\"]==\"medium\":\n",
    "                price=7500\n",
    "            else:\n",
    "                price=\"not_available\"\n",
    "        elif event[\"size\"]==20:\n",
    "            if event[\"grip\"]==\"heavy\":\n",
    "                price=8000\n",
    "            elif event[\"grip\"]==\"medium\":\n",
    "                price=8500\n",
    "            else:\n",
    "                price=\"not_available\"\n",
    "        else:\n",
    "            price=\"not_available\"\n",
    "    elif event[\"tyres\"]==\"normal\":\n",
    "        if event[\"size\"]==18:\n",
    "            if event[\"grip\"]==\"heavy\":\n",
    "                price=3000\n",
    "            elif event[\"grip\"]==\"medium\":\n",
    "                price=3500\n",
    "            else:\n",
    "                price=\"not_available\"\n",
    "        elif event[\"size\"]==19:\n",
    "            if event[\"grip\"]==\"heavy\":\n",
    "                price=4000\n",
    "            elif event[\"grip\"]==\"medium\":\n",
    "                price=4500\n",
    "            else: \n",
    "                price=\"not_available\"\n",
    "        elif event[\"size\"]==20:\n",
    "            if event[\"grip\"]==\"heavy\":\n",
    "                price=5000\n",
    "            elif event[\"grip\"]==\"medium\":\n",
    "                price=5500\n",
    "            else:\n",
    "                price=\"not_available\"\n",
    "        else:\n",
    "            price=\"not_available\"\n",
    "    return {\n",
    "        'statuscode':200,\n",
    "        'body':json.dumps({\"tyres\":event[\"tyres\"],\"size\":event[\"size\"],\"grip\":event[\"grip\"],\"price\":price})\n",
    "    }\n"
   ]
  },
  {
   "cell_type": "code",
   "execution_count": 10,
   "id": "3e6ef737",
   "metadata": {},
   "outputs": [],
   "source": []
  },
  {
   "cell_type": "code",
   "execution_count": null,
   "id": "2eb5aa6e",
   "metadata": {},
   "outputs": [],
   "source": []
  },
  {
   "cell_type": "code",
   "execution_count": null,
   "id": "4ee75737",
   "metadata": {},
   "outputs": [],
   "source": []
  },
  {
   "cell_type": "code",
   "execution_count": null,
   "id": "6239838d",
   "metadata": {},
   "outputs": [],
   "source": []
  },
  {
   "cell_type": "code",
   "execution_count": null,
   "id": "42904ce8",
   "metadata": {},
   "outputs": [],
   "source": []
  },
  {
   "cell_type": "code",
   "execution_count": null,
   "id": "22ebddb6",
   "metadata": {},
   "outputs": [],
   "source": []
  }
 ],
 "metadata": {
  "kernelspec": {
   "display_name": "Python 3 (ipykernel)",
   "language": "python",
   "name": "python3"
  },
  "language_info": {
   "codemirror_mode": {
    "name": "ipython",
    "version": 3
   },
   "file_extension": ".py",
   "mimetype": "text/x-python",
   "name": "python",
   "nbconvert_exporter": "python",
   "pygments_lexer": "ipython3",
   "version": "3.10.9"
  }
 },
 "nbformat": 4,
 "nbformat_minor": 5
}
