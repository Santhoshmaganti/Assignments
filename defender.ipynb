{
 "cells": [
  {
   "cell_type": "code",
   "execution_count": 35,
   "id": "b0bfe3a8",
   "metadata": {},
   "outputs": [],
   "source": [
    "Name=\"Santhosh Kumar Mganti\""
   ]
  },
  {
   "cell_type": "code",
   "execution_count": 36,
   "id": "17edcd0d",
   "metadata": {
    "scrolled": true
   },
   "outputs": [
    {
     "name": "stdout",
     "output_type": "stream",
     "text": [
      "Santhosh Kumar Mganti\n"
     ]
    }
   ],
   "source": [
    "print(Name)"
   ]
  },
  {
   "cell_type": "code",
   "execution_count": 4,
   "id": "82b475c2",
   "metadata": {},
   "outputs": [],
   "source": [
    "Age=23"
   ]
  },
  {
   "cell_type": "code",
   "execution_count": 5,
   "id": "c5a181a2",
   "metadata": {},
   "outputs": [
    {
     "data": {
      "text/plain": [
       "23"
      ]
     },
     "execution_count": 5,
     "metadata": {},
     "output_type": "execute_result"
    }
   ],
   "source": [
    "Age"
   ]
  },
  {
   "cell_type": "code",
   "execution_count": 2,
   "id": "b7e729d9",
   "metadata": {},
   "outputs": [],
   "source": [
    "Qualification=\"Btech\""
   ]
  },
  {
   "cell_type": "code",
   "execution_count": 3,
   "id": "5f373e76",
   "metadata": {},
   "outputs": [
    {
     "name": "stdout",
     "output_type": "stream",
     "text": [
      "Qualification:-Btech\n"
     ]
    }
   ],
   "source": [
    "print(\"Qualification\",Qualification,sep=':-')"
   ]
  },
  {
   "cell_type": "code",
   "execution_count": 9,
   "id": "87e012ed",
   "metadata": {},
   "outputs": [],
   "source": [
    "Hobbies=(\"Youtube\",\"Gardening\")"
   ]
  },
  {
   "cell_type": "code",
   "execution_count": 10,
   "id": "dab78016",
   "metadata": {},
   "outputs": [
    {
     "data": {
      "text/plain": [
       "('Youtube', 'Gardening')"
      ]
     },
     "execution_count": 10,
     "metadata": {},
     "output_type": "execute_result"
    }
   ],
   "source": [
    "Hobbies"
   ]
  },
  {
   "cell_type": "code",
   "execution_count": 11,
   "id": "101e3286",
   "metadata": {},
   "outputs": [],
   "source": [
    "Gender=\"Male\""
   ]
  },
  {
   "cell_type": "code",
   "execution_count": 12,
   "id": "b289cbff",
   "metadata": {},
   "outputs": [
    {
     "data": {
      "text/plain": [
       "'Male'"
      ]
     },
     "execution_count": 12,
     "metadata": {},
     "output_type": "execute_result"
    }
   ],
   "source": [
    "Gender"
   ]
  },
  {
   "cell_type": "code",
   "execution_count": 13,
   "id": "d7bd6050",
   "metadata": {},
   "outputs": [],
   "source": [
    "Location=\"Patanpeta\""
   ]
  },
  {
   "cell_type": "code",
   "execution_count": 15,
   "id": "02508ad0",
   "metadata": {},
   "outputs": [
    {
     "name": "stdout",
     "output_type": "stream",
     "text": [
      "My location is Patanpeta\n"
     ]
    }
   ],
   "source": [
    "print(\"My location is\",Location)"
   ]
  },
  {
   "cell_type": "code",
   "execution_count": 16,
   "id": "466ef4c0",
   "metadata": {},
   "outputs": [],
   "source": [
    "git_respiratory=\"Santhosh_maganti\""
   ]
  },
  {
   "cell_type": "code",
   "execution_count": 17,
   "id": "9c96b6db",
   "metadata": {},
   "outputs": [
    {
     "data": {
      "text/plain": [
       "'Santhosh_maganti'"
      ]
     },
     "execution_count": 17,
     "metadata": {},
     "output_type": "execute_result"
    }
   ],
   "source": [
    "git_respiratory"
   ]
  },
  {
   "cell_type": "code",
   "execution_count": 39,
   "id": "8072ed0c",
   "metadata": {},
   "outputs": [],
   "source": [
    "Friends_names=(\"Hari,Harsha,Varun,Vamsi\")"
   ]
  },
  {
   "cell_type": "code",
   "execution_count": 40,
   "id": "37a5c7fd",
   "metadata": {},
   "outputs": [
    {
     "name": "stdout",
     "output_type": "stream",
     "text": [
      "My friends are Hari,Harsha,Varun,Vamsi\n"
     ]
    }
   ],
   "source": [
    "print(\"My friends are\", Friends_names)"
   ]
  },
  {
   "cell_type": "code",
   "execution_count": null,
   "id": "77646a12",
   "metadata": {},
   "outputs": [],
   "source": []
  }
 ],
 "metadata": {
  "kernelspec": {
   "display_name": "Python 3 (ipykernel)",
   "language": "python",
   "name": "python3"
  },
  "language_info": {
   "codemirror_mode": {
    "name": "ipython",
    "version": 3
   },
   "file_extension": ".py",
   "mimetype": "text/x-python",
   "name": "python",
   "nbconvert_exporter": "python",
   "pygments_lexer": "ipython3",
   "version": "3.10.9"
  }
 },
 "nbformat": 4,
 "nbformat_minor": 5
}
